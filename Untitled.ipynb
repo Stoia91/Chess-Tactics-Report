{
 "cells": [
  {
   "cell_type": "code",
   "execution_count": 2,
   "metadata": {},
   "outputs": [
    {
     "name": "stdout",
     "output_type": "stream",
     "text": [
      "['4-Move Checkmate', '4-Move Checkmate', 'Back Rank', 'Back Rank', 'Battery', 'Battery', 'Bishop Pair', 'Bishop Pair', 'Clearance Sacrifice', 'Clearance Sacrifice', 'Decoy / Deflection', 'Decoy / Deflection', 'Defense', 'Defense', 'Desperado', 'Desperado', 'Discovered Attack', 'Discovered Attack', 'Double Check', 'Double Check', 'Doubled Rook', 'Doubled Rook', 'En passant', 'En passant', 'Endgame Tactics', 'Endgame Tactics', 'Exchange Sacrifice', 'Exchange Sacrifice', 'Fianchetto', 'Fianchetto', 'Fork / Double Attack', 'Fork / Double Attack', 'Hanging Piece', 'Hanging Piece', 'Interference', 'Interference', 'Knight Outpost', 'Knight Outpost', 'Mate in 1', 'Mate in 1', 'Mate in 2', 'Mate in 2', 'Mate in 3+', 'Mate in 3+', 'Mating Net', 'Mating Net', 'Opposite Colored Bishops', 'Opposite Colored Bishops', 'Opposition', 'Opposition', 'Overloading', 'Overloading', 'Passed Pawns', 'Passed Pawns', 'Pawn Promotion', 'Pawn Promotion', 'Perpetual Check', 'Perpetual Check', 'Pin', 'Pin', 'Queen Sacrifice', 'Queen Sacrifice', 'Remove the Defender', 'Remove the Defender', 'Rooks on Seventh', 'Rooks on Seventh', 'Sacrifice', 'Sacrifice', 'Simplification', 'Simplification', 'Simplification', 'Simplification', 'Skewer', 'Skewer', 'Smothered Mate', 'Smothered Mate', 'Stalemate', 'Stalemate', 'Trapped Piece', 'Trapped Piece', 'Underpromotion', 'Underpromotion', 'Vulnerable King', 'Vulnerable King', 'Windmill', 'Windmill', 'X-Ray Attack', 'X-Ray Attack', 'Zugzwang', 'Zugzwang', 'Zwischenzug', 'Zwischenzug']\n"
     ]
    }
   ],
   "source": [
    "array = ['4-Move Checkmate', 'Back Rank', 'Battery', 'Bishop Pair',\n",
    "             'Clearance Sacrifice', 'Decoy / Deflection', 'Defense','Desperado', 'Discovered Attack', 'Double Check',\n",
    "             'Doubled Rook','En passant', 'Endgame Tactics', 'Exchange Sacrifice','Fianchetto', 'Fork / Double Attack',\n",
    "             'Hanging Piece','Interference', 'Knight Outpost', 'Mate in 1', 'Mate in 2','Mate in 3+', 'Mating Net',\n",
    "             'Opposite Colored Bishops','Opposition', 'Overloading', 'Passed Pawns', 'Pawn Promotion','Perpetual Check',\n",
    "             'Pin', 'Queen Sacrifice','Remove the Defender', 'Rooks on Seventh', 'Sacrifice','Simplification', 'Simplification',\n",
    "             'Skewer', 'Smothered Mate','Stalemate', 'Trapped Piece', 'Underpromotion', 'Vulnerable King','Windmill',\n",
    "             'X-Ray Attack', 'Zugzwang', 'Zwischenzug','4-Move Checkmate', 'Back Rank', 'Battery', 'Bishop Pair',\n",
    "             'Clearance Sacrifice', 'Decoy / Deflection', 'Defense','Desperado', 'Discovered Attack', 'Double Check',\n",
    "             'Doubled Rook','En passant', 'Endgame Tactics', 'Exchange Sacrifice','Fianchetto', 'Fork / Double Attack',\n",
    "             'Hanging Piece','Interference', 'Knight Outpost', 'Mate in 1', 'Mate in 2','Mate in 3+', 'Mating Net',\n",
    "             'Opposite Colored Bishops','Opposition', 'Overloading', 'Passed Pawns', 'Pawn Promotion','Perpetual Check',\n",
    "             'Pin', 'Queen Sacrifice','Remove the Defender', 'Rooks on Seventh', 'Sacrifice','Simplification', 'Simplification',\n",
    "             'Skewer', 'Smothered Mate','Stalemate', 'Trapped Piece', 'Underpromotion', 'Vulnerable King','Windmill',\n",
    "             'X-Ray Attack', 'Zugzwang', 'Zwischenzug']\n",
    "array.sort()\n",
    "print(array)"
   ]
  },
  {
   "cell_type": "code",
   "execution_count": 3,
   "metadata": {},
   "outputs": [
    {
     "name": "stdout",
     "output_type": "stream",
     "text": [
      "Alekhine's Gun\n",
      "Attacking Castled King\n",
      "Basic Checkmates\n"
     ]
    }
   ],
   "source": [
    "fulllist =['4-Move Checkmate', \"Alekhine's Gun\", 'Attacking Castled King', 'Back Rank', 'Basic Checkmates', 'Battery', 'Bishop Pair',\n",
    "     'Clearance Sacrifice', 'Decoy / Deflection', 'Defense', 'Desperado', 'Discovered Attack', 'Double Check', 'Doubled Rook',\n",
    "     'En passant', 'Endgame Tactics', 'Exchange Sacrifice', 'Fianchetto', 'Fork / Double Attack', 'Hanging Piece',\n",
    "     'Interference', 'Knight Outpost', 'Mate in 1', 'Mate in 2', 'Mate in 3+', 'Mating Net', 'Opposite Colored Bishops',\n",
    "     'Opposition', 'Overloading', 'Passed Pawns', 'Pawn Promotion', 'Perpetual Check', 'Pin', 'Queen Sacrifice',\n",
    "     'Remove the Defender', 'Rooks on Seventh', 'Sacrifice', 'Simplification', 'Skewer', 'Smothered Mate', 'Stalemate',\n",
    "     'Trapped Piece', 'Underpromotion', 'Vulnerable King', 'Windmill', 'X-Ray Attack', 'Zugzwang', 'Zwischenzug']\n",
    "for item in fulllist:\n",
    "    if not item in array:\n",
    "        print(item)"
   ]
  },
  {
   "cell_type": "code",
   "execution_count": null,
   "metadata": {},
   "outputs": [],
   "source": []
  }
 ],
 "metadata": {
  "kernelspec": {
   "display_name": "Python 3",
   "language": "python",
   "name": "python3"
  },
  "language_info": {
   "codemirror_mode": {
    "name": "ipython",
    "version": 3
   },
   "file_extension": ".py",
   "mimetype": "text/x-python",
   "name": "python",
   "nbconvert_exporter": "python",
   "pygments_lexer": "ipython3",
   "version": "3.7.1"
  }
 },
 "nbformat": 4,
 "nbformat_minor": 2
}
