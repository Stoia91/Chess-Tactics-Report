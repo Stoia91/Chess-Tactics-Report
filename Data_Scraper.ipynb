{
 "cells": [
  {
   "cell_type": "code",
   "execution_count": 19,
   "metadata": {},
   "outputs": [],
   "source": [
    "import pandas as pd\n",
    "import numpy as np\n",
    "import matplotlib as plt\n",
    "import os\n",
    "import collections\n",
    "from bs4 import BeautifulSoup"
   ]
  },
  {
   "cell_type": "code",
   "execution_count": 21,
   "metadata": {
    "scrolled": false
   },
   "outputs": [],
   "source": [
    "dataNames = ['Title', '4-Move Checkmate (Pass)', '4-Move Checkmate (Fail)', 'Alekhine\\'s Gun (Pass)', 'Alekhine\\'s Gun (Fail)',\n",
    "             'Attacking Castled King (Pass)', 'Attacking Castled King (Fail)',\n",
    "             'Back Rank (Pass)', 'Back Rank (Fail)', 'Basic Checkmates (Pass)',  'Basic Checkmates (Fail)',\n",
    "             'Battery (Pass)', 'Battery (Fail)', 'Bishop Pair (Pass)', 'Bishop Pair (Fail)',\n",
    "             'Clearance Sacrifice (Pass)', 'Clearance Sacrifice (Fail)', 'Decoy / Deflection (Pass)', 'Decoy / Deflection (Fail)',\n",
    "             'Defense (Pass)', 'Defense (Fail)', 'Desperado (Pass)', 'Desperado (Fail)', 'Discovered Attack (Pass)', 'Discovered Attack (Fail)',\n",
    "             'Double Check (Pass)', 'Double Check (Fail)', 'Doubled Rook (Pass)', 'Doubled Rook (Fail)', 'En passant (Pass)', 'En passant (Fail)',\n",
    "             'Endgame Tactics (Pass)', 'Endgame Tactics (Fail)', 'Exchange Sacrifice (Pass)', 'Exchange Sacrifice (Fail)',\n",
    "             'Fianchetto (Pass)', 'Fianchetto (Fail)', 'Fork / Double Attack (Pass)', 'Fork / Double Attack (Fail)', 'Hanging Piece (Pass)',\n",
    "             'Hanging Piece (Fail)', 'Interference (Pass)', 'Interference (Fail)', 'Knight Outpost (Pass)', 'Knight Outpost (Fail)', 'Mate in 1 (Pass)',\n",
    "             'Mate in 1 (Fail)', 'Mate in 2 (Pass)', 'Mate in 2 (Fail)', 'Mate in 3+ (Pass)', 'Mate in 3+ (Fail)', 'Mating Net (Pass)', 'Mating Net (Fail)',\n",
    "             'Opposite Colored Bishops (Pass)', 'Opposite Colored Bishops (Fail)', 'Opposition (Pass)', 'Opposition (Fail)', 'Overloading (Pass)',\n",
    "             'Overloading (Fail)', 'Passed Pawns (Pass)', 'Passed Pawns (Fail)', 'Pawn Promotion (Pass)', 'Pawn Promotion (Fail)', 'Perpetual Check (Pass)',\n",
    "             'Perpetual Check', 'Pin (Pass)', 'Pin', 'Queen Sacrifice (Pass)', 'Queen Sacrifice', 'Remove the Defender (Pass)',\n",
    "             'Remove the Defender (Fail)', 'Rooks on Seventh (Pass)', 'Rooks on Seventh (Fail)', 'Sacrifice (Pass)', 'Sacrifice (Fail)', 'Simplification (Pass)',\n",
    "             'Simplification (Fail)', 'Skewer (Pass)', 'Skewer (Fail)', 'Smothered Mate (Pass)', 'Smothered Mate (Fail)', 'Stalemate (Pass)', 'Stalemate (Fail)',\n",
    "             'Trapped Piece (Pass)', 'Trapped Piece (Fail)', 'Underpromotion (Pass)', 'Underpromotion (Fail)', 'Vulnerable King (Pass)',\n",
    "             'Vulnerable King (Fail)', 'Windmill (Pass)', 'Windmill (Fail)', 'X-Ray Attack (Pass)', 'X-Ray Attack (Fail)', 'Zugzwang (Pass)', 'Zugzwang (Fail)',\n",
    "             'Zwischenzug (Pass)', 'Zwischenzug (Fail)']\n",
    "\n",
    "df = pd.DataFrame(columns = dataNames)\n",
    "\n",
    "\n",
    "\n",
    "# Iterate through .html player stats and feed pages into the df dataframe\n",
    "for playerfile in os.listdir('Player Profiles'):\n",
    "    username = playerfile.replace('.html', '')\n",
    "    page = open('Player Profiles\\\\' + playerfile, encoding = 'utf-8')\n",
    "    soup = BeautifulSoup(page.read())\n",
    "    df.loc[username] = digest(soup)\n",
    "\n",
    "df.to_csv('my_data.csv')\n",
    "\n"
   ]
  },
  {
   "cell_type": "code",
   "execution_count": 18,
   "metadata": {},
   "outputs": [],
   "source": [
    "#This function accepts a beautiful soup html page, and returns 1 row for the df dataframe\n",
    "def digest(soup):\n",
    "    list_of_tactics = ['4-Move Checkmate', \"Alekhine's Gun\", 'Attacking Castled King', 'Back Rank', 'Basic Checkmates', 'Battery', 'Bishop Pair',\n",
    "     'Clearance Sacrifice', 'Decoy / Deflection', 'Defense', 'Desperado', 'Discovered Attack', 'Double Check', 'Doubled Rook',\n",
    "     'En passant', 'Endgame Tactics', 'Exchange Sacrifice', 'Fianchetto', 'Fork / Double Attack', 'Hanging Piece',\n",
    "     'Interference', 'Knight Outpost', 'Mate in 1', 'Mate in 2', 'Mate in 3+', 'Mating Net', 'Opposite Colored Bishops',\n",
    "     'Opposition', 'Overloading', 'Passed Pawns', 'Pawn Promotion', 'Perpetual Check', 'Pin', 'Queen Sacrifice',\n",
    "     'Remove the Defender', 'Rooks on Seventh', 'Sacrifice', 'Simplification', 'Skewer', 'Smothered Mate', 'Stalemate',\n",
    "     'Trapped Piece', 'Underpromotion', 'Vulnerable King', 'Windmill', 'X-Ray Attack', 'Zugzwang', 'Zwischenzug']\n",
    "    i=0\n",
    "\n",
    "    tactics = collections.defaultdict(lambda : ['0','0'])\n",
    "    playerProfile =[]\n",
    "    \n",
    "    #print(soup)\n",
    "    \n",
    "    title = soup.find(class_=\"user-chess-title\").string.strip()\n",
    "    playerProfile.append(title)\n",
    "    \n",
    "    soup = soup.findAll(\"li\", {\"class\": \"semibold\"})\n",
    "    \n",
    "    for child in soup:\n",
    "        tacticpopup = child.find_next_siblings(\"li\")\n",
    "        passedstring = tacticpopup[1].string.strip()\n",
    "        failedstring = tacticpopup[2].string.strip()\n",
    "        currentTactic = child.string.strip()\n",
    "        tactics[currentTactic] = [passedstring[8:],failedstring[8:]]\n",
    "\n",
    "\n",
    "    for tacticName in list_of_tactics:\n",
    "        currentStat = tactics[tacticName]\n",
    "        playerProfile.append(currentStat[0])\n",
    "        playerProfile.append(currentStat[1])\n",
    "    #print(tactics)\n",
    "    return playerProfile"
   ]
  },
  {
   "cell_type": "code",
   "execution_count": null,
   "metadata": {},
   "outputs": [],
   "source": [
    " "
   ]
  },
  {
   "cell_type": "code",
   "execution_count": null,
   "metadata": {},
   "outputs": [],
   "source": []
  }
 ],
 "metadata": {
  "kernelspec": {
   "display_name": "Python 3",
   "language": "python",
   "name": "python3"
  },
  "language_info": {
   "codemirror_mode": {
    "name": "ipython",
    "version": 3
   },
   "file_extension": ".py",
   "mimetype": "text/x-python",
   "name": "python",
   "nbconvert_exporter": "python",
   "pygments_lexer": "ipython3",
   "version": "3.7.1"
  }
 },
 "nbformat": 4,
 "nbformat_minor": 2
}
